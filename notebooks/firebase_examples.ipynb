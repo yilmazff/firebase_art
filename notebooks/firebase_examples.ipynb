{
 "cells": [
  {
   "cell_type": "markdown",
   "id": "c338cb0c",
   "metadata": {},
   "source": [
    "# Usage\n",
    "\n",
    "Follow these steps:\n",
    "\n",
    "1. Import and run the initial cells\n",
    "2. Choose a document and run `crawl_doc` and `generate_keys` cells for the document:\n",
    "    - There are 9 examples (documents) in the notebook: [Doc1](#doc1), [Doc2](#doc2), [Doc3](#doc3), [Doc4](#doc4), [Doc5](#doc5), [Doc6](#doc6), [Doc7](#doc7), [Doc8](#doc8), [Doc9](#doc9). Just pick one to get the keywords, then proceed to the next step.\n",
    "3. Next, execute [FIREBASE pipeline](#fatih) for the selected document.\n",
    "4. Finally, you can [visualize the results](#visualize) and inspect all the obtained images together with the computed semantic similarity scores."
   ]
  },
  {
   "cell_type": "code",
   "execution_count": 1,
   "id": "10da7067",
   "metadata": {},
   "outputs": [],
   "source": [
    "%load_ext autoreload\n",
    "%autoreload 2"
   ]
  },
  {
   "cell_type": "code",
   "execution_count": 5,
   "id": "seasonal-montreal",
   "metadata": {},
   "outputs": [],
   "source": [
    "import warnings\n",
    "warnings.filterwarnings('ignore')\n",
    "\n",
    "import pathlib\n",
    "import numpy as np\n",
    "import matplotlib\n",
    "import matplotlib.pyplot as plt\n",
    "from IPython.display import display\n",
    "\n",
    "import sys\n",
    "repo_root = str((pathlib.Path.cwd().parent / 'code').resolve())\n",
    "sys.path.append(repo_root)\n",
    "\n",
    "from firebase_utils import firebase\n",
    "from wiki_utils import save_wiki_image, get_wiki_images\n",
    "from bing_utils import get_bing_results_per_paragraph\n",
    "from img_utils import get_image_with_url\n",
    "from doc_utils import crawl_doc"
   ]
  },
  {
   "cell_type": "markdown",
   "id": "3b344df1",
   "metadata": {},
   "source": [
    "# Initialize FIREBASE instance"
   ]
  },
  {
   "cell_type": "code",
   "execution_count": 6,
   "id": "00e55933",
   "metadata": {},
   "outputs": [],
   "source": [
    "firebase_model = firebase()"
   ]
  },
  {
   "cell_type": "markdown",
   "id": "97f76a76",
   "metadata": {},
   "source": [
    "<a id='doc1'></a>\n",
    "# Doc1. Human digestive system"
   ]
  },
  {
   "cell_type": "code",
   "execution_count": 400,
   "id": "answering-vienna",
   "metadata": {},
   "outputs": [
    {
     "name": "stdout",
     "output_type": "stream",
     "text": [
      "\"par1\" The human digestive system, (also known as the digestive tract, the GI tract, the alimentary canal) is a series of connected organs leading from the mouth to the anus. The digestive system allows us to break down the food we eat to obtain energy and nourishment. \n",
      "\n",
      "\"par2\" The digestive system -- which can be up to 30 feet in length in adults -- is usually divided into eight parts: the mouth, the esophagus, the stomach, the small intestine (or \"small bowel\") and the large intestine (also called \"large bowel\" or \"colon\") with the liver, pancreas, and gallbladder adding secretions to help digestion. These organs combine to perform six tasks: ingestion, secretion, propulsion, digestion, absorption, and defecation. \n",
      "\n",
      "\"par3\" The mouth starts the process by ingesting and mechanically breaking down the food we eat into a swallowable form, adding some early secretions to start the process of digestion. The esophagus is the muscular tube connecting the mouth to the stomach. A ring-like muscle at the end of the esophagus controls the passage of food into the stomach. This ring-like muscle also controls the food from going back up into the esophagus. The stomach then further liquefies the food and adds digestive acids. \n",
      "\n",
      "\"par4\" From there the stomach contents are slowly released into the small intestine. The small intestine is where most of the digestion and absorption of nutrients takes place. There are millions of tiny finger-like projections lining the small intestine called villi (pronounced: \"VILL-ee\"). These villi aid in the absorption of nutrients. Secretions from the liver, pancreas, and gallbladder are emptied into the small intestine and also aid in the digestive process. \n",
      "\n",
      "\"par5\" After traveling through the nearly 20 feet of small intestine, unabsorbed material moves into the colon (large bowel or large intestine). Here the remaining liquids and salts (electrolytes) are absorbed from the digested material. Bacteria further break down the undigested material, which continues to solidify and eventually passes from the body as feces through the rectum and anus during a bowel movement. \n",
      "\n"
     ]
    }
   ],
   "source": [
    "url = 'https://www.asge.org/home/about-asge/newsroom/media-backgrounders-detail/human-digestive-system'\n",
    "pars = crawl_doc(url,th=25)"
   ]
  },
  {
   "cell_type": "code",
   "execution_count": 401,
   "id": "julian-origin",
   "metadata": {},
   "outputs": [
    {
     "data": {
      "text/plain": [
       "{'par1': 'digestive tract', 'par2': 'large intestine'}"
      ]
     },
     "execution_count": 401,
     "metadata": {},
     "output_type": "execute_result"
    }
   ],
   "source": [
    "keys, par_embeddings = firebase_model.generate_keys(pars, num_words=2, thresh=0.51, top_n=1)\n",
    "keys"
   ]
  },
  {
   "cell_type": "markdown",
   "id": "worthy-genesis",
   "metadata": {},
   "source": [
    "# Notes\n",
    "- threshold on paragraphs (I put a 25-word limit)\n",
    "- A single word works, but with similarity threshold = 0.42, we get two images for the document, which is fine because those images cover most of that \"short\" article."
   ]
  },
  {
   "cell_type": "markdown",
   "id": "57705e5f",
   "metadata": {},
   "source": [
    "<a id='doc2'></a>\n",
    "# Doc2. Human visual system"
   ]
  },
  {
   "cell_type": "code",
   "execution_count": 7,
   "id": "fresh-karma",
   "metadata": {},
   "outputs": [
    {
     "name": "stdout",
     "output_type": "stream",
     "text": [
      "\"par1\" The visual system of any specie is a sensory system developed to perceive the environment through the light: it uses light to form images of the surroundings. Light in the form of electromagnetic radiation propagates as a wave with a certain amplitude, frequency and wavelength. The human visual system has evolved to transduce the electromagnetic waves to meaningful information about the world. \n",
      "\n",
      "\"par2\" Vision begins with the eye. Images are formed in the eye by refraction, the bending of light rays that can occur when they travel from one transparent medium to another. Lightwaves enter the eye through cornea, refracts, goes through the pupil and reaches the retina. The pigmentation of the eye is provided by the iris; the white part of the eye is called sclera and it forms the eyeball; extraocular muscles move the eye and the eye’s orbit. The axons exit the retina thought the optic nerve in the back of the eye. Image formation in the eye happens in the retina according to basic optical properties. \n",
      "\n",
      "\"par3\" The conversion of light energy into neural activity starts in the retina. Retina has a laminar structure: it consists of several layers of cells. The lightwave information propagates through these layers as follows: photoreceptors respond to light and influence membrane potential of the bipolar cells, ganglion cells fire action potentials which propagate through the optic nerve to the rest of the brain. Other cells of the retina are horizontal cells and amarcine cells. \n",
      "\n",
      "\"par4\" The only cells which respond to light are rod and cone photoreceptors. The mechanisms of phototransduction in rods and cones differ and define human color vision and light sensitivity. The ganglion cells are the only source of output from the retina and the only retinal neurons that fire action potentials. Ganglion cells (P-type, M-type, nonM–nonP type) and bipolar cells (ON-cell, OFF-cell) have their receptive fields, which give the ability to perceive complex combinations of colors, as well as light and dark regions. The key structure-function relationships defined here in terms of color opponency and center-surrounding receptive fields. \n",
      "\n",
      "\"par5\" The neural pathway from optic nerve to the rest of the brain is called retinofugal projection and includes optic nerve, optict chiasm and optic tract. At the optic chiasm happens decussation: the crossing of fibers from one brain hemisphere to another. This implies the concept of the visual hemifields, nicely explained in the Book. \n",
      "\n",
      "\"par6\" The vision involves the perception of numerous different properties of objects, including color, form, and movement; and these properties are processed in parallel by different cells of the visual system. Therefore the nature of the cortical processing of visual information is distributed. The main structures of the brain involved in processing of the visual information are the lateral geniculate nucleus; the striate cortex and superior colliculus. \n",
      "\n"
     ]
    }
   ],
   "source": [
    "url = 'https://blogs.aalto.fi/neuroscience/2016/10/15/visual-system/'\n",
    "pars = crawl_doc(url,th=35)"
   ]
  },
  {
   "cell_type": "code",
   "execution_count": 8,
   "id": "quantitative-angle",
   "metadata": {},
   "outputs": [
    {
     "data": {
      "text/plain": [
       "{'par1': 'electromagnetic radiation',\n",
       " 'par2': 'eyeball extraocular',\n",
       " 'par6': 'cortical processing'}"
      ]
     },
     "execution_count": 8,
     "metadata": {},
     "output_type": "execute_result"
    }
   ],
   "source": [
    "keys, par_embeddings = firebase_model.generate_keys(pars, num_words=2, thresh=0.58, top_n=1)\n",
    "keys"
   ]
  },
  {
   "cell_type": "markdown",
   "id": "textile-edward",
   "metadata": {},
   "source": [
    "# Notes\n",
    "- threshold on paragraphs (I put a 35-word limit), because this article has longer paragraphs compared to the first one.\n",
    "- A single word doesn't work, so I usea keyword of size 2. With similarity threshold = 0.58, we get three images for the document, which is again fine because those images cover most of the article."
   ]
  },
  {
   "cell_type": "markdown",
   "id": "1e371c3d",
   "metadata": {},
   "source": [
    "<a id='doc3'></a>\n",
    "# Doc3. Basic components of a building"
   ]
  },
  {
   "cell_type": "code",
   "execution_count": 415,
   "id": "29568f94",
   "metadata": {},
   "outputs": [
    {
     "name": "stdout",
     "output_type": "stream",
     "text": [
      "Paragraph contains special characters. Skipping...\n",
      "\"par1\" The basic components of a building structure are the foundation, floors, walls, beams, columns, roof, stair, etc. These elements serve the purpose of supporting, enclosing and protecting the building structure.  \n",
      "\n",
      "\"par2\" The roof forms the topmost component of a building structure. It covers the top face of the building. Roofs can be either flat or sloped based on the location and weather conditions of the area. \n",
      "\n",
      "\"par3\" Lintels are constructed above the wall openings like doors, windows, etc. These structures support the weight of the wall coming over the opening. Normally, lintels are constructed by reinforced cement concrete. In residential buildings, lintels can be either constructed from concrete or from bricks. \n",
      "\n",
      "\"par4\" Beams and slabs form the horizontal members in a building. For a single storey building, the top slab forms the roof. In case of a multi-storey building, the beam transfers the load coming from the floor above the slab which is in turn transferred to the columns. Beams and slabs are constructed by reinforced cement concrete (R.C.C). \n",
      "\n",
      "\"par5\" Columns are vertical members constructed above the ground level. Columns can be of two types: Architectural columns and structural columns. Architectural columns are constructed to improve the building's aesthetics while a structural column takes the load coming from the slab above and transfers safely to the foundation. \n",
      "\n",
      "\"par6\" Walls are vertical elements which support the roof. It can be made from stones, bricks, concrete blocks, etc. Walls provide an enclosure and protect against wind, sunshine, rain etc. Openings are provided in the walls for ventilation and access to the building. \n",
      "\n",
      "\"par7\" The floor is the surface laid on the plinth level. Flooring can be done by a variety of materials like tiles, granites, marbles, concrete, etc. Before flooring, the ground has to be properly compacted and leveled. \n",
      "\n",
      "\"par8\" A stair is a sequence of steps that connects different floors in a building structure. The space occupied by a stair is called as the stairway. There are different types of stairs like a wooden stair, R.C.C stair etc. \n",
      "\n",
      "\"par9\" The Foundation is a structural unit that uniformly distributes the load from the superstructure to the underlying soil. This is the first structural unit to be constructed for any building construction. A good foundation prevents settlement of the building. \n",
      "\n"
     ]
    }
   ],
   "source": [
    "url = 'https://theconstructor.org/building/12-basic-components-building-structure/34024/'\n",
    "pars = crawl_doc(url,th=30)"
   ]
  },
  {
   "cell_type": "code",
   "execution_count": 416,
   "id": "5dd4f770",
   "metadata": {},
   "outputs": [
    {
     "data": {
      "text/plain": [
       "{'par1': 'building structure',\n",
       " 'par2': 'roof forms',\n",
       " 'par3': 'reinforced cement',\n",
       " 'par4': 'cement concrete',\n",
       " 'par8': 'stairs like'}"
      ]
     },
     "execution_count": 416,
     "metadata": {},
     "output_type": "execute_result"
    }
   ],
   "source": [
    "keys, par_embeddings = firebase_model.generate_keys(pars, num_words=2, thresh=0.72, top_n=1)\n",
    "keys"
   ]
  },
  {
   "cell_type": "markdown",
   "id": "f4c71395",
   "metadata": {},
   "source": [
    "# Notes\n",
    "- threshold on paragraphs = 30 words --> but we get a dummy paragraph at the beginning.\n",
    "- bigrams are needed as keywords (i.e., l=2).\n",
    "- to embed these keywords, we face a problem because these bigrams are out-of-vocab for Word2Vec, I searched the keyword of each paragraph manually and observed that the baseline (just picking the first image of google) works well."
   ]
  },
  {
   "cell_type": "markdown",
   "id": "84cd9bae",
   "metadata": {},
   "source": [
    "<a id='doc4'></a>\n",
    "# Doc4. Volcano eruption"
   ]
  },
  {
   "cell_type": "code",
   "execution_count": 418,
   "id": "db520261",
   "metadata": {},
   "outputs": [
    {
     "name": "stdout",
     "output_type": "stream",
     "text": [
      "\"par1\" After erupting almost continuously for over three decades — from 1983 to 2018 —  Hawaii's Kilauea volcano finally seemed to lose steam, producing no lava for nearly two years. The slumber ended on the night of December 20, 2020, when the active volcano began spewing out dramatic lava fountains and giant puffs of gas and steam from a fissure in the northwest wall of the Halemaʻumaʻu crater. \n",
      "\n",
      "\"par2\" As of December 31, 2020, the volcano had ejected over 27 million cubic meters (953 million cubic feet) of molten rock — enough to fill more than 8,000 Olympic-sized swimming pools — and replaced the existing water lake with a nearly 600-foot-deep lava lake.  Fortunately, the magma is contained inside the volcano's crater and does not pose a risk to people or property as it did in 2018, when the molten rock flowed through a residential neighborhood, destroying over 700 homes.  \n",
      "\n",
      "\"par3\" Residents have, however, been asked to limit outdoor activities in areas with high volcanic smog levels. Commonly known as vog, it is a form of air pollution created when sulfur dioxide and other pollutants emitted from volcanic activity interact chemically with atmospheric moisture, oxygen, dust, and sunlight. While not deadly, it can irritate skin and the tissues and mucous membranes of the eyes, nose, and throat, and it can be particularly harmful to individuals with preexisting respiratory conditions. \n",
      "\n",
      "\"par4\" While Kilauea is now recognized as one of the world's youngest and most active volcanoes, it was initially believed to be an offshoot of a bigger volcano. It was only after researchers discovered a magma plumbing system extending over 37 miles (60 km) inside its crater in 1884 that the volcano was finally accepted as a separate entity. \n",
      "\n",
      "\"par5\" Many locals believe that Kilauea’s eruptions are caused by Pele, a Hawaiian volcano goddess who resides in the mountain.  According to popular folklore, the deity — one of six daughters and seven sons born to ancient Earth goddess Haumea and universe creator Kane Milohai — was exiled to Hawaii from Tahiti.  Upon arrival, she went on a rampage, creating destructive fire pits and volcanoes. While Pele was killed during an epic battle with her sister Nāmaka on the island of Maui, her spirit lives on inside the Halemaʻumaʻu crater.  \n",
      "\n",
      "Paragraph contains special characters. Skipping...\n"
     ]
    }
   ],
   "source": [
    "url = 'https://www.dogonews.com/2021/1/6/hawaiis-kilauea-volcano-eruption-creates-spectacular-lava-lake'\n",
    "pars = crawl_doc(url,th=25)"
   ]
  },
  {
   "cell_type": "code",
   "execution_count": 419,
   "id": "27538594",
   "metadata": {},
   "outputs": [
    {
     "data": {
      "text/plain": [
       "{'par4': 'volcano'}"
      ]
     },
     "execution_count": 419,
     "metadata": {},
     "output_type": "execute_result"
    }
   ],
   "source": [
    "keys, par_embeddings = firebase_model.generate_keys(pars, num_words=1, thresh=0.37)\n",
    "keys"
   ]
  },
  {
   "cell_type": "markdown",
   "id": "2d83f37e",
   "metadata": {},
   "source": [
    "# Notes\n",
    "- threshold on paragraphs = 25 words --> but we get a dummy paragraph at the end.\n",
    "- unigrams are fine as keywords (i.e., l=1) because the whole article is just about volcanos.\n",
    "- for the dummy paragraph (par6), the keyword is of course out-of-vocab of the embedding models but the baseline (i.e., returning the first result of bing) returns no images which is good."
   ]
  },
  {
   "cell_type": "markdown",
   "id": "57bfe65f",
   "metadata": {},
   "source": [
    "<a id='doc5'></a>\n",
    "# Doc5. NASA finds water on the Moon"
   ]
  },
  {
   "cell_type": "code",
   "execution_count": 421,
   "id": "743e4288",
   "metadata": {},
   "outputs": [
    {
     "name": "stdout",
     "output_type": "stream",
     "text": [
      "\"par1\" The presence of ice in the permanently shadowed craters around the Moon's poles has been known for some time. However, researchers had been unsure if the hydration detected on the satellite's sunlit areas was \"molecular\" water (H2O), or hydroxyl (OH), a molecule that's one hydrogen atom shy of becoming water. On October 26, 2020, NASA confirmed that the liquid was indeed water. \n",
      "\n",
      "\"par2\" “We had indications that H2O – the familiar water we know – might be present on the sunlit side of the Moon,” said Paul Hertz,  Director of Astrophysics at NASA.  “Now we know it is there. This discovery challenges our understanding of the lunar surface and raises intriguing questions about resources relevant for deep space exploration.” \n",
      "\n",
      "\"par3\" The discovery was made using data collected by NASA’s Stratospheric Observatory for Infrared Astronomy (SOFIA). The modified Boeing 747 aircraft, which can fly its large telescope at altitudes of up to 45,000 feet, allows researchers to clearly observe space objects. The water molecules — detected using a special infrared camera capable of discerning between the wavelengths of H2O and OH — were found in the Clavius Crater.  Located on the Moon's Southern Hemisphere, the large crater can be clearly seen from Earth. \n",
      "\n",
      "\"par4\" However, before you start packing your bags for our satellite, be warned that the water concentration is extremely low — about 100 to 412 parts per million. To put it in perspective,  the Sahara Desert has about 100 times more water! \"This is not puddles of water but instead water molecules that are so spread apart that they do not form ice or liquid water,\" said NASA researcher Casey Honniball, who led the study. Though not enough to sustain humans, the discovery is significant because water is a rare and precious resource in deep space. \n",
      "\n",
      "\"par5\" The scientists speculate that the H2O molecules may have been deposited by the tiny meteorites that are continually bombarding the Moon's surface. Another plausible explanation involves a multi-step process where the Sun's solar wind brings hydrogen to the Moon, which then reacts with oxygen-bearing minerals in the soil to create hydroxyl. This hydroxyl could later be transformed into water from the micrometeorites' radiation.  \n",
      "\n",
      "\"par6\" Also perplexing is how the water escapes evaporation. The liquid could be trapped in tiny bead-like structures in the soil that form from the intense heat generated from the micrometeorite impacts. Alternatively, the H2O molecules may be hidden inside the lunar soil grains and sheltered from the Sun. \n",
      "\n",
      "\"par7\"  “Without a thick atmosphere, water on the sunlit lunar surface should just be lost to space,” said Honniball. “Yet somehow we’re seeing it. Something is generating the water, and something must be trapping it there.” \n",
      "\n",
      "\"par8\" NASA plans to conduct follow-up missions to determine how widespread the water is across the lunar surface. The findings will allow the US space agency to find the perfect landing for its Artemis mission that will take the first woman and next man to explore the Moon more extensively in 2024. \n",
      "\n",
      "Paragraph contains special characters. Skipping...\n"
     ]
    }
   ],
   "source": [
    "url = 'https://www.dogonews.com/2020/11/6/nasas-sofia-finds-water-on-the-moons-sunlit-side'\n",
    "pars = crawl_doc(url,th=25)"
   ]
  },
  {
   "cell_type": "code",
   "execution_count": 422,
   "id": "fb031ff1",
   "metadata": {},
   "outputs": [
    {
     "data": {
      "text/plain": [
       "{'par2': 'lunar', 'par3': 'moon', 'par5': 'meteorites'}"
      ]
     },
     "execution_count": 422,
     "metadata": {},
     "output_type": "execute_result"
    }
   ],
   "source": [
    "keys, par_embeddings = firebase_model.generate_keys(pars, num_words=1, thresh=0.35)\n",
    "keys"
   ]
  },
  {
   "cell_type": "markdown",
   "id": "609a4e2c",
   "metadata": {},
   "source": [
    "# Notes\n",
    "- threshold on paragraphs = 25 words --> but we get a dummy paragraph again at the end (because the sources of Doc5 and Doc4 are the same website).\n",
    "- unigrams are fine as keywords (i.e., l=1) because the whole article is just about the moon.\n",
    "- for the dummy paragraph (par6), the keyword is of course out-of-vocab of the embedding models but the baseline (i.e., returning the first result of bing) returns no images which is good."
   ]
  },
  {
   "cell_type": "markdown",
   "id": "7170c360",
   "metadata": {},
   "source": [
    "<a id='doc6'></a>\n",
    "# Doc6. Human auditory system. An example of complete failure\n",
    "\n",
    "This document essentially doesn't have any paragraphs with more than one sentence."
   ]
  },
  {
   "cell_type": "code",
   "execution_count": 338,
   "id": "370315fc",
   "metadata": {},
   "outputs": [
    {
     "name": "stdout",
     "output_type": "stream",
     "text": [
      "Paragraph contains special characters. Skipping...\n",
      "Paragraph contains special characters. Skipping...\n",
      "Paragraph contains special characters. Skipping...\n",
      "Paragraph contains special characters. Skipping...\n",
      "Paragraph contains special characters. Skipping...\n",
      "Paragraph contains special characters. Skipping...\n",
      "Paragraph contains special characters. Skipping...\n",
      "Paragraph contains special characters. Skipping...\n",
      "Paragraph contains special characters. Skipping...\n",
      "Paragraph contains special characters. Skipping...\n",
      "Paragraph contains special characters. Skipping...\n",
      "Paragraph contains special characters. Skipping...\n",
      "Paragraph contains special characters. Skipping...\n",
      "Paragraph contains special characters. Skipping...\n",
      "Paragraph contains special characters. Skipping...\n",
      "Paragraph contains special characters. Skipping...\n",
      "Paragraph contains special characters. Skipping...\n",
      "Paragraph contains special characters. Skipping...\n",
      "Paragraph contains special characters. Skipping...\n"
     ]
    }
   ],
   "source": [
    "url = 'https://w3.ual.es/~vruiz/Docencia/Apuntes/Perception/Sistema_Auditivo/index.html'\n",
    "pars = crawl_doc(url,th=25,disp=False)"
   ]
  },
  {
   "cell_type": "code",
   "execution_count": 339,
   "id": "b2cc290a",
   "metadata": {},
   "outputs": [
    {
     "data": {
      "text/plain": [
       "{}"
      ]
     },
     "execution_count": 339,
     "metadata": {},
     "output_type": "execute_result"
    }
   ],
   "source": [
    "keys, par_embeddings = firebase_model.generate_keys(pars, num_words=2, thresh=0.4)\n",
    "keys"
   ]
  },
  {
   "cell_type": "markdown",
   "id": "bd3ac45a",
   "metadata": {},
   "source": [
    "# Notes\n",
    "- If you set disp=True when crawling the data above, you'll see that the article is written in a weird way that the whole document will be collected as one paragraph, and you'll see multiple repetitive chunks as the extracted paragraphs. So our framework doesn't work on this document.\n",
    "- [This article](http://www.cs.tut.fi/~ypsilon/80545/HumanAuditorySystem.html) is another example of our framework's failure, because our framework is not suited for bulletpoint-like articles, it is meant to be used for well-written (i.e., structured in organized (and relatively long) paragraphs) articles."
   ]
  },
  {
   "cell_type": "markdown",
   "id": "8586d245",
   "metadata": {},
   "source": [
    "<a id='doc7'></a>\n",
    "# Doc7. BERT explained\n",
    "\n",
    "- This is a rather failure case, because the keyBERT extracts keywords related to Google or researchers rather than anything about NLP and BERT."
   ]
  },
  {
   "cell_type": "code",
   "execution_count": 424,
   "id": "5b2a03ba",
   "metadata": {},
   "outputs": [
    {
     "name": "stdout",
     "output_type": "stream",
     "text": [
      "\"par1\" BERT (Bidirectional Encoder Representations from Transformers) is a recent paper published by researchers at Google AI Language. It has caused a stir in the Machine Learning community by presenting state-of-the-art results in a wide variety of NLP tasks, including Question Answering (SQuAD v1.1), Natural Language Inference (MNLI), and others. \n",
      "\n",
      "\"par2\" BERT’s key technical innovation is applying the bidirectional training of Transformer, a popular attention model, to language modelling. This is in contrast to previous efforts which looked at a text sequence either from left to right or combined left-to-right and right-to-left training. The paper’s results show that a language model which is bidirectionally trained can have a deeper sense of language context and flow than single-direction language models. In the paper, the researchers detail a novel technique named Masked LM (MLM) which allows bidirectional training in models in which it was previously impossible. \n",
      "\n",
      "\"par3\" In the field of computer vision, researchers have repeatedly shown the value of transfer learning — pre-training a neural network model on a known task, for instance ImageNet, and then performing fine-tuning — using the trained neural network as the basis of a new purpose-specific model. In recent years, researchers have been showing that a similar technique can be useful in many natural language tasks. \n",
      "\n",
      "\"par4\" BERT makes use of Transformer, an attention mechanism that learns contextual relations between words (or sub-words) in a text. In its vanilla form, Transformer includes two separate mechanisms — an encoder that reads the text input and a decoder that produces a prediction for the task. Since BERT’s goal is to generate a language model, only the encoder mechanism is necessary. The detailed workings of Transformer are described in a paper by Google. \n",
      "\n",
      "\"par5\" As opposed to directional models, which read the text input sequentially (left-to-right or right-to-left), the Transformer encoder reads the entire sequence of words at once. Therefore it is considered bidirectional, though it would be more accurate to say that it’s non-directional. This characteristic allows the model to learn the context of a word based on all of its surroundings (left and right of the word). \n",
      "\n",
      "\"par6\" The chart below is a high-level description of the Transformer encoder. The input is a sequence of tokens, which are first embedded into vectors and then processed in the neural network. The output is a sequence of vectors of size H, in which each vector corresponds to an input token with the same index. \n",
      "\n",
      "\"par7\" When training language models, there is a challenge of defining a prediction goal. Many models predict the next word in a sequence (e.g. “The child came home from ___”), a directional approach which inherently limits context learning. To overcome this challenge, BERT uses two training strategies: \n",
      "\n",
      "\"par8\" Before feeding word sequences into BERT, 15% of the words in each sequence are replaced with a [MASK] token. The model then attempts to predict the original value of the masked words, based on the context provided by the other, non-masked, words in the sequence. In technical terms, the prediction of the output words requires: \n",
      "\n",
      "\"par9\" In the BERT training process, the model receives pairs of sentences as input and learns to predict if the second sentence in the pair is the subsequent sentence in the original document. During training, 50% of the inputs are a pair in which the second sentence is the subsequent sentence in the original document, while in the other 50% a random sentence from the corpus is chosen as the second sentence. The assumption is that the random sentence will be disconnected from the first sentence. \n",
      "\n",
      "\"par10\" In the fine-tuning training, most hyper-parameters stay the same as in BERT training, and the paper gives specific guidance (Section 3.5) on the hyper-parameters that require tuning. The BERT team has used this technique to achieve state-of-the-art results on a wide variety of challenging natural language tasks, detailed in Section 4 of the paper. \n",
      "\n",
      "\"par11\" BERT is undoubtedly a breakthrough in the use of Machine Learning for Natural Language Processing. The fact that it’s approachable and allows fast fine-tuning will likely allow a wide range of practical applications in the future. In this summary, we attempted to describe the main ideas of the paper while not drowning in excessive technical details. For those wishing for a deeper dive, we highly recommend reading the full article and ancillary articles referenced in it. Another useful reference is the BERT source code and models, which cover 103 languages and were generously released as open source by the research team. \n",
      "\n",
      "\"par12\" Training the language model in BERT is done by predicting 15% of the tokens in the input, that were randomly picked. These tokens are pre-processed as follows — 80% are replaced with a “[MASK]” token, 10% with a random word, and 10% use the original word. The intuition that led the authors to pick this approach is as follows (Thanks to Jacob Devlin from Google for the insight): \n",
      "\n"
     ]
    }
   ],
   "source": [
    "url = 'https://towardsdatascience.com/bert-explained-state-of-the-art-language-model-for-nlp-f8b21a9b6270'\n",
    "pars = crawl_doc(url,th=45)"
   ]
  },
  {
   "cell_type": "code",
   "execution_count": 425,
   "id": "e3577f54",
   "metadata": {},
   "outputs": [
    {
     "data": {
      "text/plain": [
       "{'par1': 'researchers at google', 'par3': 'computer vision researchers'}"
      ]
     },
     "execution_count": 425,
     "metadata": {},
     "output_type": "execute_result"
    }
   ],
   "source": [
    "keys, par_embeddings = firebase_model.generate_keys(pars, num_words=3, thresh=0.6, top_n=1)\n",
    "keys"
   ]
  },
  {
   "cell_type": "markdown",
   "id": "796ddee6",
   "metadata": {},
   "source": [
    "<a id='doc8'></a>\n",
    "# Doc8. WHO - Coronavirus disease (COVID-19): Herd immunity, lockdowns and COVID-19\n",
    "\n",
    "- This is another failure case. We do find good images, but our scoring system selects the worst one."
   ]
  },
  {
   "cell_type": "code",
   "execution_count": 427,
   "id": "02213638",
   "metadata": {},
   "outputs": [
    {
     "name": "stdout",
     "output_type": "stream",
     "text": [
      "Paragraph contains special characters. Skipping...\n",
      "\"par1\" 'Herd immunity', also known as 'population immunity', is the indirect protection from an infectious disease that happens when a population is immune either through vaccination or immunity developed through previous infection. WHO supports achieving 'herd immunity' through vaccination, not by allowing a disease to spread through any segment of the population, as this would result in unnecessary cases and deaths. \n",
      "\n",
      "\"par2\" Vaccines train our immune systems to create proteins that fight disease, known as ‘antibodies’, just as would happen when we are exposed to a disease but – crucially – vaccines work without making us sick. Vaccinated people are protected from getting the disease in question and passing on the pathogen, breaking any chains of transmission. Visit our webpage on COVID-19 and vaccines for more detail.  \n",
      "\n",
      "\"par3\" To safely achieve herd immunity against COVID-19, a substantial proportion of a population would need to be vaccinated, lowering the overall amount of virus able to spread in the whole population. One of the aims with working towards herd immunity is to keep vulnerable groups who cannot get vaccinated (e.g. due to health conditions like allergic reactions to the vaccine) safe and protected from the disease. Read our Q&A on vaccines and immunization for more information. \n",
      "\n",
      "\"par4\" The percentage of people who need to be immune in order to achieve herd immunity varies with each disease. For example, herd immunity against measles requires about 95% of a population to be vaccinated. The remaining 5% will be protected by the fact that measles will not spread among those who are vaccinated. For polio, the threshold is about 80%. The proportion of the population that must be vaccinated against COVID-19 to begin inducing herd immunity is not known. This is an important area of research and will likely vary according to the community, the vaccine, the populations prioritized for vaccination, and other factors.   \n",
      "\n",
      "Paragraph contains special characters. Skipping...\n",
      "\"par5\" We are still learning about immunity to COVID-19. Most people who are infected with COVID-19 develop an immune response within the first few weeks, but we don’t know how strong or lasting that immune response is, or how it differs for different people. There have also been reports of people infected with COVID-19 for a second time.          \n",
      "\n",
      "\"par6\" Until we better understand COVID-19 immunity, it will not be possible to know how much of a population is immune and how long that immunity last for, let alone make future predictions. These challenges should preclude any plans that try to increase immunity within a population by allowing people to get infected. \n",
      "\n",
      "\"par7\" Finally, while most infected people get mild or moderate forms of COVID-19 and some experience no disease, many become seriously ill and must be admitted into hospital. We are only beginning to understand the long-term health impacts among people who have had COVID-19, including what is being described as ‘Long COVID.’ WHO is working with clinicians and patient groups to better understand the long term effects of COVID-19.   \n",
      "\n",
      "Paragraph contains special characters. Skipping...\n",
      "\"par8\" Research is still ongoing into how strong that protection is and how long it lasts. WHO is also looking into whether the strength and length of immune response depends on the type of infection a person has: without symptoms (‘asymptomatic’), mild or severe. Even people without symptoms seem to develop an immune response. \n",
      "\n",
      "\"par9\" For other coronaviruses – such as the common cold, SARS-CoV-1 and Middle East Respiratory Syndrome (MERS) – immunity declines over time, as is the case with other diseases. While people infected with the SARS-CoV-2 virus develop antibodies and immunity, we do not yet know how long it lasts.  \n",
      "\n",
      "Paragraph contains special characters. Skipping...\n",
      "\"par10\" However, these measures can have a profound negative impact on individuals, communities, and societies by bringing social and economic life to a near stop. Such measures disproportionately affect disadvantaged groups, including people in poverty, migrants, internally displaced people and refugees, who most often live in overcrowded and under resourced settings, and depend on daily labour for subsistence. \n",
      "\n",
      "\"par11\" Governments must make the most of the extra time granted by ‘lockdown’ measures by doing all they can to build their capacities to detect, isolate, test and care for all cases; trace and quarantine all contacts; engage, empower and enable populations to drive the societal response and more. \n",
      "\n"
     ]
    }
   ],
   "source": [
    "url = 'https://www.who.int/news-room/q-a-detail/herd-immunity-lockdowns-and-covid-19'\n",
    "pars = crawl_doc(url,th=45)"
   ]
  },
  {
   "cell_type": "code",
   "execution_count": 428,
   "id": "c39c2835",
   "metadata": {},
   "outputs": [
    {
     "data": {
      "text/plain": [
       "{'par1': 'immunity through vaccination'}"
      ]
     },
     "execution_count": 428,
     "metadata": {},
     "output_type": "execute_result"
    }
   ],
   "source": [
    "keys, par_embeddings = firebase_model.generate_keys(par_merger(pars), num_words=3, thresh=0.3, top_n=1)\n",
    "keys"
   ]
  },
  {
   "cell_type": "markdown",
   "id": "e5aa2da4",
   "metadata": {},
   "source": [
    "<a id='doc9'></a>\n",
    "# Healthy Habits We Can Learn From Our Birds"
   ]
  },
  {
   "cell_type": "code",
   "execution_count": 430,
   "id": "561fc014",
   "metadata": {
    "scrolled": false
   },
   "outputs": [
    {
     "name": "stdout",
     "output_type": "stream",
     "text": [
      "\"par1\" Looking for some healthy habits to try in the year ahead? Good news! Chances are you have your very own health coach living with you right now — look no further than your feathered friend! Here are a few of your bird’s healthy habits that you should follow, too. \n",
      "\n",
      "\"par2\" Eat the rainbow. This trending phrase is a simple way to remind us to eat a variety of fruits and vegetables to help get the vitamins and minerals our bodies need. The same goes for our pet birds. Parrots cannot live on seed alone — they thrive when fed a healthy diet that is supplemented by a variety of fruits and veggies. Likewise, their human stewards cannot and should not consume a diet devoid of healthy selections. In the wild, parrots are natural-born foragers — they eat what’s in season, which adds variety; we can reap health benefits by doing the same. Try some of these winter fruits and veggies. \n",
      "\n",
      "\"par3\" Eat slow, and enjoy your food. Ever noticed that your bird takes his/her time to thoroughly enjoy a favorite food? Birds eat different than our canine companions. A dog is more inclined to gulp down a prized treat, while a parrot might very well take a a good five minutes to eat a single blueberry. We humans can take a cue from our birds and take the time to enjoy our food. Research shows that chewing until “no lumps remain” increases the number of calories the human body burns during digestion: about 10 extra calories for a 300-calorie meal. Extra chewing also slows the pace of eating, which may be another reason why it’s a healthier way to eat. Slow eating may also help people eat more mindfully and tune in to their feelings of fullness. \n",
      "\n",
      "\"par4\" Eat breakfast. Imagine your bird starting the day without breakfast. In the wild, the flock’s foraging begins soon after the sun rises. Chances are your bird wakes in morning waiting patiently (or impatiently) for his or her food. Birds are breakfast eaters for sure … if you asked your bird, he or she probably couldn’t fathom why their favorite humans would forgo breakfast. Birds don’t need a doctor to tell them that breakfast does a body good, but us silly humans sometimes need a little reminding, so here are some good reasons to eat breakfast, according to WebMD. Breakfast kick-starts your metabolism, helping to burn calories throughout the day, and it helps you focus at work or at school. Many studies link eating breakfast to better memory and concentration, lower levels of “bad” LDL cholesterol, and lower chances of getting diabetes, heart disease, and being overweight — no wonder breakfast is often referred to as the most important meal of the day. \n",
      "\n"
     ]
    }
   ],
   "source": [
    "url = 'https://lafeber.com/pet-birds/healthy-habits-can-learn-birds/'\n",
    "pars = crawl_doc(url,th=25)"
   ]
  },
  {
   "cell_type": "code",
   "execution_count": 431,
   "id": "b2c16d81",
   "metadata": {},
   "outputs": [
    {
     "data": {
      "text/plain": [
       "{'par2': 'wild parrots', 'par4': 'breakfast birds'}"
      ]
     },
     "execution_count": 431,
     "metadata": {},
     "output_type": "execute_result"
    }
   ],
   "source": [
    "keys, par_embeddings = firebase_model.generate_keys(pars, num_words=2, thresh=0.4, top_n=1)\n",
    "keys"
   ]
  },
  {
   "cell_type": "markdown",
   "id": "8c6c2e7b",
   "metadata": {},
   "source": [
    "# Final notes\n",
    "\n",
    "In the above documents, we get a pretty good performance in terms of the quality of the images. Failure cases are (1) getting dummy paragraphs (which as shown in Doc 4 and Doc 5, their keywords typically result in no Bing images), (2) getting irrelevant keywords (which doesn't occur in the above documents, but by changing the threshold of keyword extraction, we can squeeze irrelevant terms out the returned keywords), and (3) when keywords are out-of-vocab of the embedding model, then we need to resort to the baseline (i.e., returning the first Bing result)."
   ]
  },
  {
   "cell_type": "markdown",
   "id": "93d071cc",
   "metadata": {},
   "source": [
    "<a id='fatih'></a>\n",
    "# Run FIREBASE for the selected document"
   ]
  },
  {
   "cell_type": "code",
   "execution_count": 9,
   "id": "6812d61f",
   "metadata": {},
   "outputs": [
    {
     "name": "stdout",
     "output_type": "stream",
     "text": [
      "[INFO] Total of 35 images found.\n",
      "Obtaining paragraphs for the bing images for the keyword electromagnetic radiation...\n",
      "This is an image tag, but does not contain an image source: <img alt=\"TRUSTe\" class=\"comp lazyload badge-image mntl-block\" data-src=\"//privacy-policy.truste.com/privacy-seal/seal?rid=e166d0ee-e663-4ad0-9384-f5bd78093a89\" id=\"badge-image_1-0\"/>\n",
      "DONE!\n",
      "Computing scores for the images...\n",
      "DONE!\n",
      "[INFO] Total of 35 images found.\n",
      "Obtaining paragraphs for the bing images for the keyword eyeball extraocular...\n",
      "This is an image tag, but does not contain an image source: <img class=\"j-next-thumb thumb\"/>\n",
      "This is an image tag, but does not contain an image source: <img class=\"j-tooltip-thumb tooltip-thumb\" onerror=\"this.src=''\" slide-thumb-1=\"https://image.slidesharecdn.com/lacrimalapparatuseyelidandexternalfeaturesofeyeball-161021005848/85/lacrimal-apparatus-eye-lid-and-external-features-of-eye-ball-1-320.jpg?cb=1508905076\" slide-thumb-10=\"https://image.slidesharecdn.com/lacrimalapparatuseyelidandexternalfeaturesofeyeball-161021005848/85/lacrimal-apparatus-eye-lid-and-external-features-of-eye-ball-10-320.jpg?cb=1508905076\" slide-thumb-11=\"https://image.slidesharecdn.com/lacrimalapparatuseyelidandexternalfeaturesofeyeball-161021005848/85/lacrimal-apparatus-eye-lid-and-external-features-of-eye-ball-11-320.jpg?cb=1508905076\" slide-thumb-12=\"https://image.slidesharecdn.com/lacrimalapparatuseyelidandexternalfeaturesofeyeball-161021005848/85/lacrimal-apparatus-eye-lid-and-external-features-of-eye-ball-12-320.jpg?cb=1508905076\" slide-thumb-13=\"https://image.slidesharecdn.com/lacrimalapparatuseyelidandexternalfeaturesofeyeball-161021005848/85/lacrimal-apparatus-eye-lid-and-external-features-of-eye-ball-13-320.jpg?cb=1508905076\" slide-thumb-14=\"https://image.slidesharecdn.com/lacrimalapparatuseyelidandexternalfeaturesofeyeball-161021005848/85/lacrimal-apparatus-eye-lid-and-external-features-of-eye-ball-14-320.jpg?cb=1508905076\" slide-thumb-15=\"https://image.slidesharecdn.com/lacrimalapparatuseyelidandexternalfeaturesofeyeball-161021005848/85/lacrimal-apparatus-eye-lid-and-external-features-of-eye-ball-15-320.jpg?cb=1508905076\" slide-thumb-16=\"https://image.slidesharecdn.com/lacrimalapparatuseyelidandexternalfeaturesofeyeball-161021005848/85/lacrimal-apparatus-eye-lid-and-external-features-of-eye-ball-16-320.jpg?cb=1508905076\" slide-thumb-17=\"https://image.slidesharecdn.com/lacrimalapparatuseyelidandexternalfeaturesofeyeball-161021005848/85/lacrimal-apparatus-eye-lid-and-external-features-of-eye-ball-17-320.jpg?cb=1508905076\" slide-thumb-18=\"https://image.slidesharecdn.com/lacrimalapparatuseyelidandexternalfeaturesofeyeball-161021005848/85/lacrimal-apparatus-eye-lid-and-external-features-of-eye-ball-18-320.jpg?cb=1508905076\" slide-thumb-19=\"https://image.slidesharecdn.com/lacrimalapparatuseyelidandexternalfeaturesofeyeball-161021005848/85/lacrimal-apparatus-eye-lid-and-external-features-of-eye-ball-19-320.jpg?cb=1508905076\" slide-thumb-2=\"https://image.slidesharecdn.com/lacrimalapparatuseyelidandexternalfeaturesofeyeball-161021005848/85/lacrimal-apparatus-eye-lid-and-external-features-of-eye-ball-2-320.jpg?cb=1508905076\" slide-thumb-20=\"https://image.slidesharecdn.com/lacrimalapparatuseyelidandexternalfeaturesofeyeball-161021005848/85/lacrimal-apparatus-eye-lid-and-external-features-of-eye-ball-20-320.jpg?cb=1508905076\" slide-thumb-21=\"https://image.slidesharecdn.com/lacrimalapparatuseyelidandexternalfeaturesofeyeball-161021005848/85/lacrimal-apparatus-eye-lid-and-external-features-of-eye-ball-21-320.jpg?cb=1508905076\" slide-thumb-3=\"https://image.slidesharecdn.com/lacrimalapparatuseyelidandexternalfeaturesofeyeball-161021005848/85/lacrimal-apparatus-eye-lid-and-external-features-of-eye-ball-3-320.jpg?cb=1508905076\" slide-thumb-4=\"https://image.slidesharecdn.com/lacrimalapparatuseyelidandexternalfeaturesofeyeball-161021005848/85/lacrimal-apparatus-eye-lid-and-external-features-of-eye-ball-4-320.jpg?cb=1508905076\" slide-thumb-5=\"https://image.slidesharecdn.com/lacrimalapparatuseyelidandexternalfeaturesofeyeball-161021005848/85/lacrimal-apparatus-eye-lid-and-external-features-of-eye-ball-5-320.jpg?cb=1508905076\" slide-thumb-6=\"https://image.slidesharecdn.com/lacrimalapparatuseyelidandexternalfeaturesofeyeball-161021005848/85/lacrimal-apparatus-eye-lid-and-external-features-of-eye-ball-6-320.jpg?cb=1508905076\" slide-thumb-7=\"https://image.slidesharecdn.com/lacrimalapparatuseyelidandexternalfeaturesofeyeball-161021005848/85/lacrimal-apparatus-eye-lid-and-external-features-of-eye-ball-7-320.jpg?cb=1508905076\" slide-thumb-8=\"https://image.slidesharecdn.com/lacrimalapparatuseyelidandexternalfeaturesofeyeball-161021005848/85/lacrimal-apparatus-eye-lid-and-external-features-of-eye-ball-8-320.jpg?cb=1508905076\" slide-thumb-9=\"https://image.slidesharecdn.com/lacrimalapparatuseyelidandexternalfeaturesofeyeball-161021005848/85/lacrimal-apparatus-eye-lid-and-external-features-of-eye-ball-9-320.jpg?cb=1508905076\"/>\n",
      "This is an image tag, but does not contain an image source: <img alt=\"Anatomy of the eyelids\" class=\"j-thumbnail\" data-original=\"//cdn.slidesharecdn.com/ss_thumbnails/anatomyoftheeyelids-140429224039-phpapp02-thumbnail.jpg?cb=1398811272\">\n",
      "<span class=\"presentation-meta\">\n",
      "<span class=\"title\">Anatomy of the eyelids</span>\n",
      "<span class=\"author\">by optometry student</span>\n",
      "<span class=\"view-count\">5290 views</span>\n",
      "</span>\n",
      "</img>\n",
      "This is an image tag, but does not contain an image source: <img alt=\"Anatomy of the lacrimal apparatus s...\" class=\"j-thumbnail\" data-original=\"//cdn.slidesharecdn.com/ss_thumbnails/anatomyofthelacrimalapparatus-140118113243-phpapp01-thumbnail.jpg?cb=1515571907\"/>\n",
      "This is an image tag, but does not contain an image source: <img alt=\"Anatomy of lacrimal apparatus\" class=\"j-thumbnail\" data-original=\"//cdn.slidesharecdn.com/ss_thumbnails/anatomyoflacrimalapparatus-160313074220-thumbnail.jpg?cb=1464011435\"/>\n",
      "This is an image tag, but does not contain an image source: <img class=\"j-next-thumb thumb\"/>\n",
      "This is an image tag, but does not contain an image source: <img class=\"j-tooltip-thumb tooltip-thumb\" onerror=\"this.src=''\" slide-thumb-1=\"https://image.slidesharecdn.com/2wedhojjtzghupapyw18-signature-e86948ceefe84d6283e50b325b325ecc8a75e67c392d032e47fe9080affa6e22-poli-150125091804-conversion-gate01/85/movement-of-eyeball-1-320.jpg?cb=1422177529\" slide-thumb-10=\"https://image.slidesharecdn.com/2wedhojjtzghupapyw18-signature-e86948ceefe84d6283e50b325b325ecc8a75e67c392d032e47fe9080affa6e22-poli-150125091804-conversion-gate01/85/movement-of-eyeball-10-320.jpg?cb=1422177529\" slide-thumb-11=\"https://image.slidesharecdn.com/2wedhojjtzghupapyw18-signature-e86948ceefe84d6283e50b325b325ecc8a75e67c392d032e47fe9080affa6e22-poli-150125091804-conversion-gate01/85/movement-of-eyeball-11-320.jpg?cb=1422177529\" slide-thumb-12=\"https://image.slidesharecdn.com/2wedhojjtzghupapyw18-signature-e86948ceefe84d6283e50b325b325ecc8a75e67c392d032e47fe9080affa6e22-poli-150125091804-conversion-gate01/85/movement-of-eyeball-12-320.jpg?cb=1422177529\" slide-thumb-13=\"https://image.slidesharecdn.com/2wedhojjtzghupapyw18-signature-e86948ceefe84d6283e50b325b325ecc8a75e67c392d032e47fe9080affa6e22-poli-150125091804-conversion-gate01/85/movement-of-eyeball-13-320.jpg?cb=1422177529\" slide-thumb-14=\"https://image.slidesharecdn.com/2wedhojjtzghupapyw18-signature-e86948ceefe84d6283e50b325b325ecc8a75e67c392d032e47fe9080affa6e22-poli-150125091804-conversion-gate01/85/movement-of-eyeball-14-320.jpg?cb=1422177529\" slide-thumb-15=\"https://image.slidesharecdn.com/2wedhojjtzghupapyw18-signature-e86948ceefe84d6283e50b325b325ecc8a75e67c392d032e47fe9080affa6e22-poli-150125091804-conversion-gate01/85/movement-of-eyeball-15-320.jpg?cb=1422177529\" slide-thumb-16=\"https://image.slidesharecdn.com/2wedhojjtzghupapyw18-signature-e86948ceefe84d6283e50b325b325ecc8a75e67c392d032e47fe9080affa6e22-poli-150125091804-conversion-gate01/85/movement-of-eyeball-16-320.jpg?cb=1422177529\" slide-thumb-17=\"https://image.slidesharecdn.com/2wedhojjtzghupapyw18-signature-e86948ceefe84d6283e50b325b325ecc8a75e67c392d032e47fe9080affa6e22-poli-150125091804-conversion-gate01/85/movement-of-eyeball-17-320.jpg?cb=1422177529\" slide-thumb-18=\"https://image.slidesharecdn.com/2wedhojjtzghupapyw18-signature-e86948ceefe84d6283e50b325b325ecc8a75e67c392d032e47fe9080affa6e22-poli-150125091804-conversion-gate01/85/movement-of-eyeball-18-320.jpg?cb=1422177529\" slide-thumb-19=\"https://image.slidesharecdn.com/2wedhojjtzghupapyw18-signature-e86948ceefe84d6283e50b325b325ecc8a75e67c392d032e47fe9080affa6e22-poli-150125091804-conversion-gate01/85/movement-of-eyeball-19-320.jpg?cb=1422177529\" slide-thumb-2=\"https://image.slidesharecdn.com/2wedhojjtzghupapyw18-signature-e86948ceefe84d6283e50b325b325ecc8a75e67c392d032e47fe9080affa6e22-poli-150125091804-conversion-gate01/85/movement-of-eyeball-2-320.jpg?cb=1422177529\" slide-thumb-3=\"https://image.slidesharecdn.com/2wedhojjtzghupapyw18-signature-e86948ceefe84d6283e50b325b325ecc8a75e67c392d032e47fe9080affa6e22-poli-150125091804-conversion-gate01/85/movement-of-eyeball-3-320.jpg?cb=1422177529\" slide-thumb-4=\"https://image.slidesharecdn.com/2wedhojjtzghupapyw18-signature-e86948ceefe84d6283e50b325b325ecc8a75e67c392d032e47fe9080affa6e22-poli-150125091804-conversion-gate01/85/movement-of-eyeball-4-320.jpg?cb=1422177529\" slide-thumb-5=\"https://image.slidesharecdn.com/2wedhojjtzghupapyw18-signature-e86948ceefe84d6283e50b325b325ecc8a75e67c392d032e47fe9080affa6e22-poli-150125091804-conversion-gate01/85/movement-of-eyeball-5-320.jpg?cb=1422177529\" slide-thumb-6=\"https://image.slidesharecdn.com/2wedhojjtzghupapyw18-signature-e86948ceefe84d6283e50b325b325ecc8a75e67c392d032e47fe9080affa6e22-poli-150125091804-conversion-gate01/85/movement-of-eyeball-6-320.jpg?cb=1422177529\" slide-thumb-7=\"https://image.slidesharecdn.com/2wedhojjtzghupapyw18-signature-e86948ceefe84d6283e50b325b325ecc8a75e67c392d032e47fe9080affa6e22-poli-150125091804-conversion-gate01/85/movement-of-eyeball-7-320.jpg?cb=1422177529\" slide-thumb-8=\"https://image.slidesharecdn.com/2wedhojjtzghupapyw18-signature-e86948ceefe84d6283e50b325b325ecc8a75e67c392d032e47fe9080affa6e22-poli-150125091804-conversion-gate01/85/movement-of-eyeball-8-320.jpg?cb=1422177529\" slide-thumb-9=\"https://image.slidesharecdn.com/2wedhojjtzghupapyw18-signature-e86948ceefe84d6283e50b325b325ecc8a75e67c392d032e47fe9080affa6e22-poli-150125091804-conversion-gate01/85/movement-of-eyeball-9-320.jpg?cb=1422177529\"/>\n",
      "This is an image tag, but does not contain an image source: <img alt=\"Lymphatic Drainage Of Breast\" class=\"j-thumbnail\" data-original=\"//cdn.slidesharecdn.com/ss_thumbnails/fbjdu0pbsua2qoyvcj3n-signature-cfd3f9ff5fa4d9df4fea97321796dc8dbacc4d5932adce9c90010c515993515e-poli-150125090621-conversion-gate01-thumbnail.jpg?cb=1472474561\">\n",
      "<span class=\"presentation-meta\">\n",
      "<span class=\"title\">Lymphatic Drainage Of Breast</span>\n",
      "<span class=\"author\">by Aayush Rai</span>\n",
      "<span class=\"view-count\">3965 views</span>\n",
      "</span>\n",
      "</img>\n",
      "This is an image tag, but does not contain an image source: <img alt=\"Eye movements - Anatomy, Physiology...\" class=\"j-thumbnail\" data-original=\"//cdn.slidesharecdn.com/ss_thumbnails/eyemovements-140219023934-phpapp02-thumbnail.jpg?cb=1392777711\"/>\n",
      "This is an image tag, but does not contain an image source: <img alt=\"Lymphatic Drainage Of Breast and It...\" class=\"j-thumbnail\" data-original=\"//cdn.slidesharecdn.com/ss_thumbnails/4n9ekbvtthkqrvxarqrq-signature-bd83b15c1f87467d258fa81f8eec787b1e429ff419c4d57fe89d27f8b914e988-poli-150125091245-conversion-gate01-thumbnail.jpg?cb=1422177252\"/>\n",
      "This is an image tag, but does not contain an image source: <img alt=\"The Anatomy of Breast\" class=\"j-thumbnail\" data-original=\"//cdn.slidesharecdn.com/ss_thumbnails/theanatomyofbreast-120301061642-phpapp01-thumbnail.jpg?cb=1330582754\"/>\n",
      "This is an image tag, but does not contain an image source: <img alt=\"Extraocular muscles\" class=\"j-thumbnail\" data-original=\"//cdn.slidesharecdn.com/ss_thumbnails/extraocularmuscles-141122032315-conversion-gate02-thumbnail.jpg?cb=1416626714\"/>\n",
      "This is an image tag, but does not contain an image source: <img alt=\"Anatomy of the breast\" class=\"j-thumbnail\" data-original=\"//cdn.slidesharecdn.com/ss_thumbnails/anatomyofthebreast-140405074307-phpapp01-thumbnail.jpg?cb=1396683995\"/>\n"
     ]
    },
    {
     "name": "stdout",
     "output_type": "stream",
     "text": [
      "This is an image tag, but does not contain an image source: <img id=\"linkedsharedimg\"> </img>\n",
      "DONE!\n",
      "Computing scores for the images...\n",
      "DONE!\n",
      "[INFO] Total of 35 images found.\n",
      "Obtaining paragraphs for the bing images for the keyword cortical processing...\n",
      "This is an image tag, but does not contain an image source: <img aria-hidden=\"true\" class=\"what-image b-lazy\" data-src=\"//els-jbs-prod-cdn.jbs.elsevierhealth.com/cms/attachment/553ccbcc-03bf-422f-9735-e334d4720bda/gr1.jpg\" loading=\"lazy\"/>\n",
      "DONE!\n",
      "Computing scores for the images...\n",
      "DONE!\n"
     ]
    }
   ],
   "source": [
    "results = get_bing_results_per_paragraph(firebase_model, keys, par_embeddings)"
   ]
  },
  {
   "cell_type": "markdown",
   "id": "b9110f7d",
   "metadata": {},
   "source": [
    "<a id='visualize'></a>\n",
    "# Visualize the results"
   ]
  },
  {
   "cell_type": "code",
   "execution_count": 10,
   "id": "511dacd3",
   "metadata": {},
   "outputs": [],
   "source": [
    "from IPython.core.display import HTML\n",
    "from IPython.display import Javascript, display\n",
    "from ipywidgets import widgets\n",
    "import tqdm\n",
    "import numpy as np\n",
    "from matplotlib import image\n",
    "import os\n",
    "import json\n",
    "import operator\n",
    "from PIL import Image\n",
    "import io\n",
    "from IPython.core.debugger import set_trace\n",
    "\n",
    "import random\n",
    "import pathlib\n",
    "import pickle"
   ]
  },
  {
   "cell_type": "code",
   "execution_count": 12,
   "id": "9a8e713c",
   "metadata": {},
   "outputs": [
    {
     "name": "stderr",
     "output_type": "stream",
     "text": [
      "\r",
      "Setting up scored images: 0it [00:00, ?it/s]"
     ]
    },
    {
     "name": "stdout",
     "output_type": "stream",
     "text": [
      "cur_keyword: electromagnetic radiation\n",
      "num_rows: 2\n",
      "num_images_to_show: 5\n"
     ]
    },
    {
     "name": "stderr",
     "output_type": "stream",
     "text": [
      "\r",
      "Setting up scored images: 1it [00:00,  1.48it/s]"
     ]
    },
    {
     "name": "stdout",
     "output_type": "stream",
     "text": [
      "cur_keyword: eyeball extraocular\n",
      "num_rows: 1\n",
      "num_images_to_show: 2\n"
     ]
    },
    {
     "name": "stderr",
     "output_type": "stream",
     "text": [
      "\r",
      "Setting up scored images: 2it [00:00,  1.78it/s]"
     ]
    },
    {
     "name": "stdout",
     "output_type": "stream",
     "text": [
      "cur_keyword: cortical processing\n",
      "num_rows: 1\n",
      "num_images_to_show: 3\n"
     ]
    },
    {
     "name": "stderr",
     "output_type": "stream",
     "text": [
      "Setting up scored images: 3it [00:01,  2.10it/s]\n"
     ]
    },
    {
     "data": {
      "application/vnd.jupyter.widget-view+json": {
       "model_id": "8c1a6ffd96184445be9df77919dc641a",
       "version_major": 2,
       "version_minor": 0
      },
      "text/plain": [
       "Tab(children=(VBox(children=(HBox(children=(VBox(children=(Image(value=b'\\xff\\xd8\\xff\\xe0\\x00\\x10JFIF\\x00\\x01\\…"
      ]
     },
     "metadata": {},
     "output_type": "display_data"
    }
   ],
   "source": [
    "num_images_to_show_most = 9\n",
    "img_offset = 0\n",
    "\n",
    "assert img_offset >= -1 \n",
    "\n",
    "num_cols = 3\n",
    "num_rows = int(min(3, np.ceil(num_images_to_show_most / num_cols)))\n",
    "num_per_tab = num_cols * num_rows\n",
    "num_tabs = len(list(results.keys()))\n",
    "scale = 3\n",
    "\n",
    "checkboxes = {}\n",
    "\n",
    "tab_contents = []\n",
    "for kk, cur_par in tqdm.tqdm(enumerate(results.keys()), desc='Setting up scored images'):\n",
    "    cur_keyword = results[cur_par]['keyword']\n",
    "    cur_images = results[cur_par]['images']\n",
    "    cur_scores = results[cur_par]['scores']\n",
    "    num_images_to_show = int(min(num_images_to_show_most, len(cur_images)))\n",
    "    num_rows = int(min(25, np.ceil(num_images_to_show / num_cols)))\n",
    "    num_per_tab = num_cols * num_rows\n",
    "    \n",
    "    cur_sort_idx = list(np.argsort(cur_scores)[::-1])\n",
    "    \n",
    "    cur_images = [cur_images[i] for i in cur_sort_idx]\n",
    "    cur_scores = [cur_scores[i] for i in cur_sort_idx]\n",
    "    \n",
    "    print('cur_keyword: {}\\nnum_rows: {}\\nnum_images_to_show: {}'.format(cur_keyword, num_rows, num_images_to_show))\n",
    "    \n",
    "    rows = []\n",
    "    cur_num_rows = num_rows\n",
    "    for ii in range(cur_num_rows):\n",
    "        cur_row = []\n",
    "        cur_num_cols = int(min(num_cols, num_images_to_show))\n",
    "        if ii == cur_num_rows - 1:\n",
    "            cur_num_cols = num_images_to_show - (cur_num_rows - 1) * num_cols\n",
    "        for jj in range(cur_num_cols):\n",
    "            cur_index = img_offset + ii * num_cols + jj\n",
    "            cur_img = widgets.Image(value=get_image_with_url(cur_images[cur_index], binary=True, save_image=True, title=cur_keyword, size=(512,512), score=cur_scores[cur_index]), width=256, height=256)\n",
    "            cur_checkbox = widgets.Checkbox(disabled=True, description=str(cur_scores[cur_index]), indent=False, layout=widgets.Layout(width='100px', height='28'))\n",
    "            cur_checkbox.width = '90px'\n",
    "            # checkboxes[random_imgs[cur_index].stem] = cur_checkbox\n",
    "            cur_box = widgets.VBox([cur_img, cur_checkbox])\n",
    "            cur_box.layout.align_items = 'center'\n",
    "            cur_box.layout.padding = '6px'\n",
    "            cur_row.append(cur_box)\n",
    "        cur_hbox = widgets.HBox(cur_row)\n",
    "        rows.append(cur_hbox)\n",
    "    tab_contents.append(widgets.VBox(rows))\n",
    "    \n",
    "    \n",
    "tab = widgets.Tab()\n",
    "tab.children = tab_contents\n",
    "for i in range(len(tab.children)):\n",
    "    tab.set_title(i, list(results.values())[i]['keyword'])\n",
    "    \n",
    "display(tab)"
   ]
  },
  {
   "cell_type": "code",
   "execution_count": null,
   "id": "af376b30",
   "metadata": {},
   "outputs": [],
   "source": []
  }
 ],
 "metadata": {
  "kernelspec": {
   "display_name": "Python 3",
   "language": "python",
   "name": "python3"
  },
  "language_info": {
   "codemirror_mode": {
    "name": "ipython",
    "version": 3
   },
   "file_extension": ".py",
   "mimetype": "text/x-python",
   "name": "python",
   "nbconvert_exporter": "python",
   "pygments_lexer": "ipython3",
   "version": "3.7.7"
  }
 },
 "nbformat": 4,
 "nbformat_minor": 5
}
